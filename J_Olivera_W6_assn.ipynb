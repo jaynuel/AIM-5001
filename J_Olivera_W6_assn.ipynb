{
 "cells": [
  {
   "cell_type": "markdown",
   "metadata": {},
   "source": [
    "## Jesus Olivera\n",
    "### AIM 5001 Week 6 Assignment"
   ]
  },
  {
   "cell_type": "markdown",
   "metadata": {},
   "source": [
    "#### Importing the data \n",
    "* To import the data from GitHub, I started by importing \"pandas\" library as \"pd\".\n",
    "* I used pd.read_csv(filename) to retrieve the data.\n",
    "* Created a dataframe (df) containing the data from the file."
   ]
  },
  {
   "cell_type": "code",
   "execution_count": 1,
   "metadata": {},
   "outputs": [],
   "source": [
    "import pandas as pd\n",
    "filename = 'https://raw.githubusercontent.com/jaynuel/AIM-5001/master/diamonds.csv'\n",
    "data = pd.read_csv(filename)\n",
    "df = pd.DataFrame(data)"
   ]
  },
  {
   "cell_type": "markdown",
   "metadata": {},
   "source": [
    "### Questions\n",
    "\n",
    "**1. What proportion of diamonds are between .30 and 1.08 carats?**\n",
    "\n",
    "1. To solve this question, I started by creating a dataframe (carat_pro) that filters diamonds with carat between 0.30 and 1.08\n",
    "2. I created another dataframe (proportion) that counts, using the .count() function,  the total number of diamonds with carat between 0.30 and 1.08.\n",
    "3. Then, I created another dataframe (total) that counts, using the .count() function, the total of carat data sets in the column \"carat\".\n",
    "4. To get the proportion of diamonds that are between 0.30 and 1.08, I divided dataframe \"proportion\" and dataframe \"total\" and multiplied by 100 to get the percentage.\n",
    "5. Then I printed the results.\n",
    "\n",
    "#### Result: The <code style=\"background:yellow;color:black\">74.68%</code> of the diamonds in the data set are between 0.30 and 1.08 carats."
   ]
  },
  {
   "cell_type": "code",
   "execution_count": 2,
   "metadata": {},
   "outputs": [
    {
     "data": {
      "text/plain": [
       "74.68298109010011"
      ]
     },
     "execution_count": 2,
     "metadata": {},
     "output_type": "execute_result"
    }
   ],
   "source": [
    "# 1\n",
    "carat_pro = df[(df.carat >= 0.30)&(df.carat <= 1.08)]\n",
    "\n",
    "# 2\n",
    "proportion = carat_pro['carat'].count()\n",
    "\n",
    "# 3\n",
    "total = df['carat'].count()\n",
    "\n",
    "# 4\n",
    "percentage = proportion/total*100 \n",
    "\n",
    "# 5\n",
    "percentage"
   ]
  },
  {
   "cell_type": "markdown",
   "metadata": {},
   "source": [
    "**2. How many of the diamonds have equal x and y dimensions?**\n",
    "\n",
    "1. To solve this question, I started by creating a dataframe (data2) that contains values of \"x\" and \"y\"\n",
    "2. I created another dataframe (dimensions) that counts the total number of diamonds that have equal x and y dimensions.\n",
    "3. Then, I printed the results.\n",
    "\n",
    "#### Result: There are <code style=\"background:yellow;color:black\">17</code>diamonds  that have equal \"x\" (lenght mm) and \"y\" (width mm)."
   ]
  },
  {
   "cell_type": "code",
   "execution_count": 3,
   "metadata": {},
   "outputs": [
    {
     "data": {
      "text/plain": [
       "x    17\n",
       "y    17\n",
       "dtype: int64"
      ]
     },
     "execution_count": 3,
     "metadata": {},
     "output_type": "execute_result"
    }
   ],
   "source": [
    "# 1\n",
    "data2 = df[['x','y']]\n",
    "# 2\n",
    "dimensions = data2[(df.x == df.y)].count()\n",
    "# 3\n",
    "dimensions"
   ]
  },
  {
   "cell_type": "markdown",
   "metadata": {},
   "source": [
    "**3. How many of the diamonds have a carat less than the mean carat value?**\n",
    "\n",
    "1. To solve this question, I started by creating a dataframe (data3) that contains values of the \"carat\" column.\n",
    "2. I calculated the mean of carats using the .mean() function.\n",
    "3. Then, I created another dataframe that filters carat values less than the mean carat value and count the results using the .count() function.\n",
    "4. Finally, I printed the results.\n",
    "\n",
    "#### Result: There are <code style=\"background:yellow;color:black\">31,127</code>  diamonds that have a carat less than the mean carat value."
   ]
  },
  {
   "cell_type": "code",
   "execution_count": 14,
   "metadata": {},
   "outputs": [
    {
     "data": {
      "text/plain": [
       "31127"
      ]
     },
     "execution_count": 14,
     "metadata": {},
     "output_type": "execute_result"
    }
   ],
   "source": [
    "# 1\n",
    "data3= df['carat']\n",
    "\n",
    "# 2\n",
    "diamonds_mean = df.carat.mean()\n",
    "\n",
    "# 3\n",
    "dim_total = data3[(df.carat < diamonds_mean)].count()\n",
    "\n",
    "# 4\n",
    "dim_total"
   ]
  },
  {
   "cell_type": "markdown",
   "metadata": {},
   "source": [
    "**4. How many diamonds have a Premium cut or better? Note that the possible values for the quality of a cut are ranked in ascending order as follows: Fair / Good / Very Good / Premium / Ideal**\n",
    "\n",
    "1. To solve this question, I started by creating a dataframe (data4) that contains values of the \"cut\" column.\n",
    "2. I created a dataframe (total_best_count) that only counts, using the .count() function, diamonds with cut that are equal to \"Premium\" and \"Ideal\".\n",
    "3. Then, I printed the results.\n",
    "\n",
    "#### Result: There are <code style=\"background:yellow;color:black\">35,342</code>  diamonds that have a premium cut or better,  which means a premium and ideal cut."
   ]
  },
  {
   "cell_type": "code",
   "execution_count": 5,
   "metadata": {},
   "outputs": [
    {
     "data": {
      "text/plain": [
       "35342"
      ]
     },
     "execution_count": 5,
     "metadata": {},
     "output_type": "execute_result"
    }
   ],
   "source": [
    "# 1\n",
    "data4= df['cut']\n",
    "# 2\n",
    "total_best_count =data4[(df.cut == 'Premium')].count()+ data4[(df.cut == 'Ideal')].count()\n",
    "# 3\n",
    "total_best_count"
   ]
  },
  {
   "cell_type": "markdown",
   "metadata": {},
   "source": [
    "**5. Which diamond has the highest price per carat? What is its value?**\n",
    "\n",
    "1. To solve this question, I started by performing a division between of \"price\" column over \"carat\" column.\n",
    "2. Then, I printed the row where the maximum value, after the division was located.\n",
    "\n",
    "#### Result: The diamond with the highest price per carat is<code style=\"background:yellow;color:black\">diamond 27635</code>  and its value per carat is<code style=\"background:yellow;color:black\"> $17,828.85. </code> \n",
    "\n",
    "**Diamond info:**\n",
    "\n",
    "27635 carat: 1.04   cut: Very Good color: D clarity: IF  depth: 61.3  table: 56.0  price:18542     x: 6.53   y: 6.55   z: 4.01  p_per_carat : 17828.846154  "
   ]
  },
  {
   "cell_type": "code",
   "execution_count": 6,
   "metadata": {},
   "outputs": [
    {
     "name": "stdout",
     "output_type": "stream",
     "text": [
      "       carat        cut color clarity  depth  table  price     x     y     z  \\\n",
      "27635   1.04  Very Good     D      IF   61.3   56.0  18542  6.53  6.55  4.01   \n",
      "\n",
      "        p_per_carat  \n",
      "27635  17828.846154  \n"
     ]
    }
   ],
   "source": [
    "# 1\n",
    "df['p_per_carat'] = df['price']/df['carat']\n",
    "\n",
    "# 2\n",
    "print(df[df.p_per_carat == df.p_per_carat.max()])"
   ]
  },
  {
   "cell_type": "markdown",
   "metadata": {},
   "source": [
    "<br>\n",
    "<br>\n",
    "\n",
    "**6. Make a bar plot of the ‘cut’ data. What does it tell us about the frequencies of the individual cut values within the data set?**\n",
    "\n",
    "1. To create the graph, I imported \"%matplotlib inline\".\n",
    "2. Then, I grouped by \"cut\", used the .agg() function to analyze the frequency of each cut and as the \"kind\" selected \"bar\".\n",
    "3. Lastly, I printed the tittle."
   ]
  },
  {
   "cell_type": "code",
   "execution_count": 7,
   "metadata": {},
   "outputs": [
    {
     "name": "stdout",
     "output_type": "stream",
     "text": [
      "Diamond Cut Frequency\n"
     ]
    },
    {
     "data": {
      "image/png": "[encoded data removed]",
      "text/plain": [
       "<Figure size 432x288 with 1 Axes>"
      ]
     },
     "metadata": {
      "needs_background": "light"
     },
     "output_type": "display_data"
    }
   ],
   "source": [
    "# 1\n",
    "%matplotlib inline\n",
    "\n",
    "# 2\n",
    "df.groupby('cut').cut.agg(['count']).plot(kind='bar')\n",
    "\n",
    "# 3\n",
    "print('Diamond Cut Frequency')"
   ]
  },
  {
   "cell_type": "markdown",
   "metadata": {},
   "source": [
    "### Bar Plot Observations\n",
    "\n",
    "* The table shows that the highest number of diamonds in the data set have an \"ideal\" cut and the lowest number of diamonds in the data set have a \"fair\" cut.  \n",
    "\n",
    "* The data set contains a larger amount of diamonds with a higher quality cut.\n",
    "<br>\n",
    "<br>"
   ]
  },
  {
   "cell_type": "markdown",
   "metadata": {},
   "source": [
    "**7. Make boxplots of the diamond price for each cut and discuss any conclusions you can draw from the appearance of the boxplots.**\n",
    "\n",
    "1. To create the box plot, I used .boxplot and assigned \"price\" as the y-axis and \"cut\" as the x-axis. Then, I customized the rotation of the tittle, font size and the size of the graph."
   ]
  },
  {
   "cell_type": "code",
   "execution_count": 8,
   "metadata": {},
   "outputs": [
    {
     "data": {
      "image/png": "[encoded data removed]",
      "text/plain": [
       "<Figure size 432x432 with 1 Axes>"
      ]
     },
     "metadata": {
      "needs_background": "light"
     },
     "output_type": "display_data"
    }
   ],
   "source": [
    "# 1\n",
    "df.boxplot(column = 'price', by = 'cut', rot=0, fontsize=12, figsize=(6,6));"
   ]
  },
  {
   "cell_type": "markdown",
   "metadata": {},
   "source": [
    "### Box Plot Observations\n",
    "<br>\n",
    "\n",
    "* Diamonds with a \"fair\" cut have less variation on their price and diamonds with a \"premium\" cut have a higher variation on their price.  \n",
    "<br>\n",
    "* The median price for diamonds in the data set with a \"fair\" cut is the highest in price from all the cuts in the data set. The median price of diamonds with a \"premium\" and \"good\" cut is under the median of diamonds with a \"fair\" cut, but relatively close, approximately within five hundred and seven hundred dollar range.\n",
    "<br>\n",
    "<br>\n",
    "* The interquartile range of each diamond cut is about (USD):\n",
    " * Fair: 700 - 5,100\n",
    " * Good: 1,200 - 5,000\n",
    " * Ideal: 350 - 4,900\n",
    " * Premium: 500 - 6,400\n",
    " * Very Good: 300 - 5,200 <br>\n",
    " \n",
    "**50% of the diamonds approximate prices per cut are listed above.**\n",
    "<br>\n",
    "\n",
    "* The box plot show the data is skewed right. The highest price on the Q3 of each diamond (USD) is about:\n",
    " * Fair: 10,000\n",
    " * Good: 10,500\n",
    " * Ideal: 10,100\n",
    " * Premium: 14,000\n",
    " * Very Good: 12,000\n",
    "<br>\n",
    "<br>\n",
    "* Outliers: We can observe that each cut has many outliers. To better understand the reason why, we would have to analyze the price and carat relationship since only the cut and price are not a good indicator of the price of a diamond."
   ]
  },
  {
   "cell_type": "markdown",
   "metadata": {},
   "source": [
    "**8. Make histograms of the length, width, depth, and total depth attributes and discuss any conclusions you can draw from the shape of the resulting distributions.**\n",
    "\n",
    "1. To create the histograms, I used .hist for each variable, then I added the variable to each column."
   ]
  },
  {
   "cell_type": "code",
   "execution_count": 9,
   "metadata": {},
   "outputs": [
    {
     "data": {
      "text/plain": [
       "array([[<matplotlib.axes._subplots.AxesSubplot object at 0x0B63D718>]],\n",
       "      dtype=object)"
      ]
     },
     "execution_count": 9,
     "metadata": {},
     "output_type": "execute_result"
    },
    {
     "data": {
      "image/png": "[encoded data removed]",
      "text/plain": [
       "<Figure size 432x288 with 1 Axes>"
      ]
     },
     "metadata": {
      "needs_background": "light"
     },
     "output_type": "display_data"
    },
    {
     "data": {
      "image/png": "[encoded data removed]",
      "text/plain": [
       "<Figure size 432x288 with 1 Axes>"
      ]
     },
     "metadata": {
      "needs_background": "light"
     },
     "output_type": "display_data"
    },
    {
     "data": {
      "image/png": "[encoded data removed]",
      "text/plain": [
       "<Figure size 432x288 with 1 Axes>"
      ]
     },
     "metadata": {
      "needs_background": "light"
     },
     "output_type": "display_data"
    },
    {
     "data": {
      "image/png": "[encoded data removed]",
      "text/plain": [
       "<Figure size 432x288 with 1 Axes>"
      ]
     },
     "metadata": {
      "needs_background": "light"
     },
     "output_type": "display_data"
    }
   ],
   "source": [
    "# 1\n",
    "df.hist(column= 'x')\n",
    "df.hist(column= 'y')\n",
    "df.hist(column= 'z')\n",
    "df.hist(column= 'depth')"
   ]
  },
  {
   "cell_type": "markdown",
   "metadata": {},
   "source": [
    "### Histogram Observations\n",
    "<br>\n",
    "\n",
    "**X**\n",
    "* Skewed to the right.\n",
    "* Unimodal\n",
    "* Central tendency (mm): approx. 4.25 - 5.25 \n",
    "<br>\n",
    "\n",
    "**Y**\n",
    "* Skewed to the right. \n",
    "* Unimodal\n",
    "* Central tendency (mm): approx. 0.1 - 6 \n",
    "<br>\n",
    "\n",
    "**Z**\n",
    "* Skewed to the left.\n",
    "* Unimodal\n",
    "* Central tendency (mm): approx. 3.5 - 6 \n",
    "<br>\n",
    "\n",
    "**Depth**\n",
    "* Skewed to the left.\n",
    "* Unimodal\n",
    "* Central tendency (%): approx. 61 - 64.5 \n",
    "<br>\n",
    "\n",
    "\n",
    "\n",
    "\n"
   ]
  },
  {
   "cell_type": "markdown",
   "metadata": {},
   "source": [
    "**9. Make a scatter plot of price vs. carat. What can we say about the relationship between attributes?**\n",
    "\n",
    "1. To create the scatter plot, I used .scatter function and assigned \"price\" to X-Axis, \"carat\" to Y-Axis and chose the color red for the graph (C).\n",
    "2. Lastly, I printed the tittle."
   ]
  },
  {
   "cell_type": "code",
   "execution_count": 10,
   "metadata": {},
   "outputs": [
    {
     "name": "stdout",
     "output_type": "stream",
     "text": [
      "Price vs. Carat\n"
     ]
    },
    {
     "data": {
      "image/png": "[encoded data removed]",
      "text/plain": [
       "<Figure size 432x288 with 1 Axes>"
      ]
     },
     "metadata": {
      "needs_background": "light"
     },
     "output_type": "display_data"
    }
   ],
   "source": [
    "# 1\n",
    "df.plot.scatter(x='price', y='carat', c='red')\n",
    "\n",
    "# 2 \n",
    "print('Price vs. Carat')"
   ]
  },
  {
   "cell_type": "markdown",
   "metadata": {},
   "source": [
    "### Scatter Plot Observations\n",
    "<br>\n",
    "* The data shows an uphill pattern as it moves from left to right. We can conclude that there is a positive relationship between price and carat. \n",
    "<br>"
   ]
  },
  {
   "cell_type": "code",
   "execution_count": null,
   "metadata": {},
   "outputs": [],
   "source": []
  }
 ],
 "metadata": {
  "kernelspec": {
   "display_name": "Python 3",
   "language": "python",
   "name": "python3"
  },
  "language_info": {
   "codemirror_mode": {
    "name": "ipython",
    "version": 3
   },
   "file_extension": ".py",
   "mimetype": "text/x-python",
   "name": "python",
   "nbconvert_exporter": "python",
   "pygments_lexer": "ipython3",
   "version": "3.8.3"
  }
 },
 "nbformat": 4,
 "nbformat_minor": 4
}

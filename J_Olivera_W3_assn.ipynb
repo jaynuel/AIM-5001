{
 "cells": [
  {
   "cell_type": "code",
   "execution_count": 3,
   "metadata": {},
   "outputs": [],
   "source": [
    "#Before I started the assignment, I copied the matrix here:\n",
    "\n",
    "masterlist =[['high','high','2','4','med','low','unacc'],\n",
    "['high','high','4','more','small','high','acc'],\n",
    "['high','high','4','more','big','low','unacc'],\n",
    "['high','low','2','more','big','high','acc'],\n",
    "['vhigh','low','3','2','med','med','unacc'],\n",
    "['low','high','2','2','small','low','unacc'],\n",
    "['med','med','4','more','med','high','vgood'],\n",
    "['low','low','3','2','big','med','unacc'],\n",
    "['vhigh','low','2','2','small','low','unacc'],\n",
    "['vhigh','high','4','4','med','low','unacc'],\n",
    "['low','low','2','2','med','med','unacc'],\n",
    "['vhigh','low','4','more','small','high','acc'],\n",
    "['high','low','2','4','big','med','acc'],\n",
    "['low','vhigh','3','more','big','low','unacc'],\n",
    "['high','low','5more','2','big','med','unacc'],\n",
    "['vhigh','high','2','more','med','high','unacc'],\n",
    "['med','med','2','2','small','low','unacc'],\n",
    "['high','low','5more','4','med','high','acc'],\n",
    "['low','low','3','more','med','high','vgood'],\n",
    "['low','low','2','2','big','med','unacc'],\n",
    "['med','high','4','2','big','high','unacc'],\n",
    "['low','low','2','2','small','high','unacc'],\n",
    "['vhigh','high','5more','4','med','med','unacc'],\n",
    "['med','vhigh','2','2','big','low','unacc'],\n",
    "['low','vhigh','4','4','big','low','unacc'],\n",
    "['vhigh','low','3','more','big','low','unacc'],\n",
    "['med','vhigh','3','4','small','low','unacc'],\n",
    "['high','high','3','4','med','med','unacc'],\n",
    "['low','high','5more','2','big','low','unacc'],\n",
    "['med','high','5more','2','med','med','unacc'],\n",
    "['high','low','3','4','med','high','acc'],\n",
    "['high','vhigh','5more','4','med','med','unacc'],\n",
    "['low','low','5more','2','med','low','unacc'],\n",
    "['vhigh','vhigh','4','2','big','high','unacc'],\n",
    "['high','low','3','2','big','high','unacc']]"
   ]
  },
  {
   "cell_type": "code",
   "execution_count": 7,
   "metadata": {},
   "outputs": [
    {
     "name": "stdout",
     "output_type": "stream",
     "text": [
      "\u001b[1mAnswer to question 1:\u001b[0m\n",
      "\n",
      "\u001b[1mThe indexes of automobiles having a price rating \"med\" are:\u001b[0m\n",
      "[6, 16, 20, 23, 26, 29]\n"
     ]
    }
   ],
   "source": [
    "#Answer to question 1. \n",
    "\n",
    "#To print the tittles in bold letters I added: \"\\033[1m\"+ before the text and after the text, I added \"\\033[0m\").\n",
    "#To leave a space between the firt tittle and the answer I added a space by printing an empty row \"('')\".\n",
    "print(\"\\033[1m\" +'Answer to question 1:'+\"\\033[0m\")\n",
    "print('')\n",
    "print(\"\\033[1m\" +'The indexes of automobiles having a price rating \"med\" are:'+\"\\033[0m\")\n",
    "\n",
    "\n",
    "#First, I created empty lists for each of the car attributes.\n",
    "maint_cost=[]\n",
    "num_door=[]\n",
    "num_pass=[]\n",
    "luggage=[]\n",
    "safety=[]\n",
    "vehicle=[]\n",
    "price=[]\n",
    "\n",
    "#In the code below, I appended each separate attribute in the matrix and added each attribute to the \n",
    "#empty lists I created. Each list has the name of the attribute that it contains.\n",
    "\n",
    "for x in range(len(masterlist)):\n",
    "    price.append(masterlist[x][-7])\n",
    "    maint_cost.append(masterlist[x][-6])\n",
    "    num_door.append(masterlist[x][-5])\n",
    "    num_pass.append(masterlist[x][-4])\n",
    "    luggage.append(masterlist[x][-3])\n",
    "    safety.append(masterlist[x][-2])\n",
    "    vehicle.append(masterlist[x][-1])\n",
    "    \n",
    "#I created a new list called \"price1\". I iterated over the list called price and retrieved the index numbers of \n",
    "#those items that were \"med\", then, I printed \"price1\".\n",
    "        \n",
    "price1=[i for i in range(len(price)) if price[i]== 'med']\n",
    "print(price1)\n",
    "\n",
    "\n",
    "\n",
    "\n"
   ]
  },
  {
   "cell_type": "code",
   "execution_count": 8,
   "metadata": {},
   "outputs": [
    {
     "name": "stdout",
     "output_type": "stream",
     "text": [
      "\u001b[1mAnswer to question 2:\u001b[0m\n",
      "\n",
      "\u001b[1mThe number of passengers for each auto having a price value of \"med\" are:\u001b[0m\n",
      "['more', '2', '2', '2', '4', '2']\n"
     ]
    }
   ],
   "source": [
    "#Answer to question 2.\n",
    "\n",
    "#To print the titles in bold letters I added: \"\\033[1m\"+ before the text and after the text, I added \"\\033[0m\").\n",
    "#To leave a space between the firt title and the answer I added a space by printing an empty row('').\n",
    "\n",
    "print(\"\\033[1m\" +'Answer to question 2:'+\"\\033[0m\")\n",
    "print('')\n",
    "print(\"\\033[1m\" +'The number of passengers for each auto having a price value of \"med\" are:'+\"\\033[0m\")\n",
    "\n",
    "# First, I created a new list called \"passenger\".\n",
    "#I iterated the \"price1\" list, cretaed from the list \"price\", which contains already all autos with price \"med\" and\n",
    "#identified those matching prices with thier value in the \"num_pass\" list, which is the list created from the matrix\n",
    "#\"masterlist\" containing the number of passengers. Finally I printed the list \"passenger\".\n",
    "\n",
    "passenger=[num_pass[i] for i in price1]\n",
    "print(passenger)\n",
    "\n",
    "\n",
    "\n",
    "\n",
    "\n",
    "\n",
    "\n",
    "\n",
    "\n"
   ]
  },
  {
   "cell_type": "code",
   "execution_count": 12,
   "metadata": {},
   "outputs": [
    {
     "name": "stdout",
     "output_type": "stream",
     "text": [
      "\u001b[1mAnswer to question 3:\u001b[0m\n",
      "\n",
      "\u001b[1mThe indexes for each auto having a price value of \"high\" and a maintenance value that is not \"low\" are:\u001b[0m\n",
      "[0, 1, 2, 27, 31]\n"
     ]
    }
   ],
   "source": [
    "#Answer to question 3.\n",
    "\n",
    "\n",
    "#To print the titles in bold letters I added: \"\\033[1m\"+ before the text and after the text, I added \"\\033[0m\").\n",
    "#To leave a space between the firt title and the answer I added a space by printing an empty row('').\n",
    "print(\"\\033[1m\" +'Answer to question 3:'+\"\\033[0m\")\n",
    "print('')\n",
    "print(\"\\033[1m\" +'The indexes for each auto having a price value of \"high\" and a maintenance value that is not \"low\" are:'+\"\\033[0m\")\n",
    "\n",
    "#First, I created a new list called \"autos\" that will contain the results of the question.\n",
    "#I iterated over the \"price\" list looking for the index value of items with a price value \"high\". \n",
    "#Then, I iterated over the list \"maint_cost\" with the same variable, \"a\", looking for the index value of items\n",
    "#with a maintenance value that was not \"low\". Matching values are stored in \"a\". Then, I printed list \"autos\". \n",
    "\n",
    "\n",
    "autos=[a for a in range(len(price)) if price[a]== 'high' and range(len(maint_cost)) if maint_cost[a]!= 'low']\n",
    "print(autos)\n",
    "\n"
   ]
  },
  {
   "cell_type": "code",
   "execution_count": 13,
   "metadata": {},
   "outputs": [
    {
     "name": "stdout",
     "output_type": "stream",
     "text": [
      "\u001b[1mAnswer to question 4:\u001b[0m\n",
      "\n",
      "\u001b[1mAll the items are now in a single list:\u001b[0m\n",
      "[1, 2, 3, 'A', 'B', 'C', 4, 5, 'D', 'E']\n"
     ]
    }
   ],
   "source": [
    "#Answer to question 4. \n",
    "\n",
    "#To print the titles in bold letters I added: \"\\033[1m\"+ before the text and after the text, I added \"\\033[0m\").\n",
    "#To leave a space between the firt title and the answer I added a space by printing an empty row('').\n",
    "print(\"\\033[1m\" +'Answer to question 4:'+\"\\033[0m\")\n",
    "print('')\n",
    "print(\"\\033[1m\" +'All the items are now in a single list:'+\"\\033[0m\")\n",
    "\n",
    "\n",
    "#Nested list provided:\n",
    "nlist = [ [1, 2, 3], ['A', 'B', 'C'], [4, 5], ['D', 'E']]\n",
    "\n",
    "#There are 4 lists nested in the \"nlist\". To pass all the items in all the lists to a single list (nlist2), \n",
    "#I flatten the lists using list comprehension. I passed all items from lists in \"nlist\" from the inner loop \n",
    "#from items in lists to a single list.\n",
    "\n",
    "nlist2=[items for lists in nlist for items in lists]\n",
    "print(nlist2)\n",
    "\n",
    "\n"
   ]
  },
  {
   "cell_type": "code",
   "execution_count": null,
   "metadata": {},
   "outputs": [],
   "source": []
  },
  {
   "cell_type": "code",
   "execution_count": 57,
   "metadata": {},
   "outputs": [
    {
     "name": "stdout",
     "output_type": "stream",
     "text": [
      "\u001b[1mAnswer to question 5:\u001b[0m\n",
      "\n",
      "\u001b[1mThe first elements of the luggage list are:\u001b[0m\n"
     ]
    },
    {
     "data": {
      "text/plain": [
       "{'A0': 'med', 'A1': 'small', 'A2': 'big', 'A3': 'big', 'A4': 'med'}"
      ]
     },
     "execution_count": 57,
     "metadata": {},
     "output_type": "execute_result"
    }
   ],
   "source": [
    "#Answer to question 5.\n",
    "\n",
    "#To print the titles in bold letters I added: \"\\033[1m\"+ before the text and after the text, I added \"\\033[0m\").\n",
    "#To leave a space between the firt title and the answer I added a space by printing an empty row('').\n",
    "print(\"\\033[1m\" +'Answer to question 5:'+\"\\033[0m\")\n",
    "print('')\n",
    "print(\"\\033[1m\" +'The first elements of the luggage list are:'+\"\\033[0m\")\n",
    "\n",
    "#The first thing I did was to copy all the lists containing the autos attributes.\n",
    "\n",
    "price=['high','high','high','high','vhigh','low','med','low','vhigh','vhigh','low','vhigh','high','low','high','vhigh','med','high','low','low','med','low','vhigh','med','low','vhigh','med','high','low','med','high','high','low','vhigh','high']\n",
    "num_pass=['4','more','more','more','2','2','more','2','2','4','2','more','4','more','2','more','2','4','more','2','2','2','4','2','4','more','4','4','2','2','4','4','2','2','2']\n",
    "maint_cost=['high','high','high','low','low','high','med','low','low','high','low','low','low','vhigh','low','high','med','low','low','low','high','low','high','vhigh','vhigh','low','vhigh','high','high','high','low','vhigh','low','vhigh','low']\n",
    "num_door=['2','4','4','2','3','2','4','3','2','4','2','4','2','3','5more','2','2','5more','3','2','4','2','5more','2','4','3','3','3','5more','5more','3','5more','5more','4','3']\n",
    "luggage=['med','small','big','big','med','small','med','big','small','med','med','small','big','big','big','med','small','med','med','big','big','small','med','big','big', 'big','small','med','big','med','med','med','med','big','big']\n",
    "safety=['low','high','low','high','med','low','high','med','low','low','med','high','med','low','med','high','low','high','high','med','high','high','med','low','low','low','low','med','low','med','high','med','low','high','high']\n",
    "vehicle=['unacc','acc','unacc','acc','unacc','unacc','vgood','unacc','unacc','unacc','unacc','acc','acc','unacc','unacc','unacc','unacc','acc','vgood','unacc','unacc','unacc','unacc','unacc','unacc','unacc','unacc','unacc','unacc','unacc','acc','unacc','unacc','unacc','unacc']\n",
    "\n",
    "#The first thing I did was to define \"myfunction\" with two arguments, \"x\" and \"y\".\n",
    "#Then, I created an empty dict object called \"new_dicts\". I assigned to \"y\" an interger value and to \"x\" the list value.\n",
    "#I created a new list containing all the keys (A0 to A34) and then, I created a foor loop that takes the value of \"x\"\n",
    "# and the number in \"y\" to create a new dict object. I used the \".pop\" function to delete the old key and to add the \n",
    "#\"newkey\" value. Finally I used the return function.\n",
    "\n",
    "def myfunction(x,y):\n",
    "    new_dicts={}\n",
    "    two =int(y)\n",
    "    values= x\n",
    "    newkey=['A0','A1','A2','A3','A4','A5','A6','A7','A8','A9','A10','A11','A12','A13','A14','A15','A16','A17','A18','A19','A20','A21','A22','A23','A24','A25','A26','A27','A28','A29','A30','A31','A32','A33','A34','A35']\n",
    "\n",
    "    for i in range(0,y):\n",
    "        new_dicts[newkey[i]]=new_dicts.pop(0, values[i])\n",
    "\n",
    "    return(new_dicts)\n",
    "    \n",
    "\n",
    "myfunction(luggage, 5)\n",
    "\n",
    "\n",
    "\n",
    "\n",
    " \n",
    "    \n",
    "\n"
   ]
  },
  {
   "cell_type": "code",
   "execution_count": 56,
   "metadata": {},
   "outputs": [
    {
     "name": "stdout",
     "output_type": "stream",
     "text": [
      "\u001b[1mAnswer to question 6:\u001b[0m\n",
      "\n",
      "\u001b[1mThe first 7 elements in Price are: \u001b[0m{'A0': 'high', 'A1': 'high', 'A2': 'high', 'A3': 'high', 'A4': 'vhigh', 'A5': 'low', 'A6': 'med'}.\u001b[1m The first 7 elements in Luggage are: \u001b[0m{'A0': 'med', 'A1': 'small', 'A2': 'big', 'A3': 'big', 'A4': 'med', 'A5': 'small', 'A6': 'med'}.\u001b[1m The price of the auto identified by the A4 key is:\u001b[0m vhigh.\u001b[1m The luggage capacity of the auto identified by the A4 key is:\u001b[0m med. \n"
     ]
    }
   ],
   "source": [
    "#Answer to question 6.\n",
    "\n",
    "\n",
    "#To print the titles and answer in bold letters I added: \"\\033[1m\"+ before the text and after the text, I added \"\\033[0m\").\n",
    "#To leave a space between the firt title and the answer I added a space by printing an empty row('').\n",
    "print(\"\\033[1m\" +'Answer to question 6:'+\"\\033[0m\")\n",
    "print('')\n",
    "\n",
    "\n",
    "#I created two new variables, \"price_7\" and \"luggage_7\". Each one retrieves the first seven items from \n",
    "#their respective dict objects, \"price\" and \"luggage\". To answer the second part of the question, I\n",
    "#added to the print statement a command that iterates through the items in the dict objects using the key\n",
    "#value of 'A4' for both dictionaries, the \"price_7\" and the \"luggage_7\". Both were then printed in the answer.\n",
    "\n",
    "\n",
    "\n",
    "price_7 = myfunction(price,7)\n",
    "luggage_7 = myfunction(luggage,7)\n",
    "\n",
    "\n",
    "\n",
    "print(\"\\033[1m\"+'The first 7 elements in Price are: '+\"\\033[0m\" + str(price_7) + '.' +\"\\033[1m\"+ ' The first 7 elements in Luggage are: '+\"\\033[0m\" + str(luggage_7)+'.'\n",
    "     +\"\\033[1m\"+' The price of the auto identified by the A4 key is:' +\"\\033[0m\"+ \" \" + str(price_7['A4'])+ '.' +\"\\033[1m\"+ ' The luggage capacity of the auto identified by the A4 key is:' + \"\\033[0m\"+ \" \" + str(luggage_7['A4'])+'. ')\n",
    "\n"
   ]
  },
  {
   "cell_type": "code",
   "execution_count": null,
   "metadata": {},
   "outputs": [],
   "source": []
  }
 ],
 "metadata": {
  "kernelspec": {
   "display_name": "Python 3",
   "language": "python",
   "name": "python3"
  },
  "language_info": {
   "codemirror_mode": {
    "name": "ipython",
    "version": 3
   },
   "file_extension": ".py",
   "mimetype": "text/x-python",
   "name": "python",
   "nbconvert_exporter": "python",
   "pygments_lexer": "ipython3",
   "version": "3.8.3"
  }
 },
 "nbformat": 4,
 "nbformat_minor": 4
}

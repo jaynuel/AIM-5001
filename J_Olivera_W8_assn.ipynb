{
 "cells": [
  {
   "cell_type": "markdown",
   "metadata": {},
   "source": [
    "### Jesus Olivera\n",
    "**AIM 5001 Week 8 Assignment**\n",
    "**Regular Expressions**"
   ]
  },
  {
   "cell_type": "markdown",
   "metadata": {},
   "source": [
    "**1.** As result shows, the string contains 6 names. The names in the string are 'Moe Szyslak',\n",
    " 'Burns, C. Montgomery','Rev. Timothy Lovejoy','Ned Flanders','Simpson, Homer' and 'Dr. Julius Hibbert'."
   ]
  },
  {
   "cell_type": "code",
   "execution_count": 24,
   "metadata": {},
   "outputs": [
    {
     "data": {
      "text/plain": [
       "['Moe Szyslak',\n",
       " 'Burns, C. Montgomery',\n",
       " 'Rev. Timothy Lovejoy',\n",
       " 'Ned Flanders',\n",
       " 'Simpson, Homer',\n",
       " 'Dr. Julius Hibbert']"
      ]
     },
     "execution_count": 24,
     "metadata": {},
     "output_type": "execute_result"
    }
   ],
   "source": [
    "# Importing Regex\n",
    "import re\n",
    "\n",
    "# Provided String\n",
    "string= \"555-1239Moe Szyslak(636) 555-0113Burns, C. Montgomery555 -6542Rev. Timothy Lovejoy555 89 04Ned Flanders636-555-3226Simpson, Homer5553642Dr. Julius Hibbert\"\n",
    "\n",
    "# The pattern matches letters (capitalized and lower case), any characters ('.') and they can\n",
    "# be repeated more than once ('+')\n",
    "pattern = r'[A-z\\s,.+]+[A-z]'\n",
    "regex = re.compile(pattern, flags=0)\n",
    "\n",
    "# Matching pattern in string using the regex findall function\n",
    "a = regex.findall(string)\n",
    "\n",
    "# Printing matches\n",
    "a"
   ]
  },
  {
   "cell_type": "markdown",
   "metadata": {},
   "source": [
    "**2.A** Two names in the list were not organized in the right First/Last format. The names Homer Simpson and C. Montgomery Burns were the names with the incorrect formatting. To update both names formats, I used the sub and replace regex functions. The results in variable \"firstlast\" contain the updated results showing all names with First/Last format.  "
   ]
  },
  {
   "cell_type": "code",
   "execution_count": 25,
   "metadata": {},
   "outputs": [
    {
     "data": {
      "text/plain": [
       "['Moe Szyslak',\n",
       " 'C. Montgomery Burns',\n",
       " 'Rev. Timothy Lovejoy',\n",
       " 'Ned Flanders',\n",
       " 'Homer Simpson',\n",
       " 'Dr. Julius Hibbert']"
      ]
     },
     "execution_count": 25,
     "metadata": {},
     "output_type": "execute_result"
    }
   ],
   "source": [
    "# Ordering first name in First/Last format using re.sub\n",
    "\n",
    "firstlast2 = re.sub(r\"Burns, C. Montgomery\", \"C. Montgomery Burns\", string) \n",
    "\n",
    "# ordering the second name in First/Last  format using .replace \n",
    "b= firstlast2.replace('Homer','Simpson')\n",
    "d= re.compile('(Simpson,)')\n",
    "e = d.sub('Homer', b, count=1)\n",
    "\n",
    "# Creating the new string containing all names with First/Last format\n",
    "pattern = r'[A-z\\s,.+]+[A-z]'\n",
    "regex = re.compile(pattern, flags=0)\n",
    "# Assigning the results to variable called 'firstlast'\n",
    "firstlast = regex.findall(e)\n",
    "\n",
    "# Print Results\n",
    "firstlast"
   ]
  },
  {
   "cell_type": "markdown",
   "metadata": {},
   "source": [
    "**2.B** Results show that two of the names in the array contains titles, 'Rev. Timothy Lovejoy' and 'Dr. Julius Hibbert'. Those names matched the pattern provided, 'Rev.' and 'Dr.'. They were in positions 3 and 6 on the array."
   ]
  },
  {
   "cell_type": "code",
   "execution_count": 26,
   "metadata": {},
   "outputs": [
    {
     "data": {
      "text/plain": [
       "array([False, False,  True, False, False,  True])"
      ]
     },
     "execution_count": 26,
     "metadata": {},
     "output_type": "execute_result"
    }
   ],
   "source": [
    "# Importing Numpy\n",
    "import numpy as np\n",
    "\n",
    "# Pattern matching the titles and the format of names. \n",
    "# I am using literal matching so I wrote the tittles I was trying to match inside the brackets\n",
    "p='^[Rev.|Dr.][A-z\\s,.+]+[A-z]'\n",
    "l=[]\n",
    "\n",
    "# Function that iterate through lists searching for pattern and matching it to a description:\n",
    "# 'Contains title' and 'No title'\n",
    "def m1(p, firstlast):\n",
    "    for x in firstlast:\n",
    "        if re.search(p, x):\n",
    "            l.append('Contains Title')\n",
    "        else:\n",
    "            l.append('No Title')\n",
    "            \n",
    "m1(p, firstlast) \n",
    "\n",
    "# Converting the result of the function in a numpy array\n",
    "titles = np.array(l)\n",
    "\n",
    "# Iterating(boolen) numpy array searching for 'Contains Title'\n",
    "contains_titles = titles == 'Contains Title'\n",
    "\n",
    "# Printing Results\n",
    "contains_titles"
   ]
  },
  {
   "cell_type": "markdown",
   "metadata": {},
   "source": [
    "**2.C** Results show that one of the names in the array contains a second name. The name that matched the pattern provided and has a second name is the name in the second position in the array, 'C. Montgomery Burns'. "
   ]
  },
  {
   "cell_type": "code",
   "execution_count": 27,
   "metadata": {},
   "outputs": [
    {
     "data": {
      "text/plain": [
       "array([False,  True, False, False, False, False])"
      ]
     },
     "execution_count": 27,
     "metadata": {},
     "output_type": "execute_result"
    }
   ],
   "source": [
    "# Importing Numpy\n",
    "import numpy as np\n",
    "\n",
    "# Pattern matching the names format and ignores the titles 'Rev.' and 'Dr.'\n",
    "# Inserting the '^' I am making sure that the pattern matches all and ignores the titles.\n",
    "p2='[^Rev.|Dr.][^A-z\\s]+[A-z\\s]+[A-z\\s]'\n",
    "l2=[]\n",
    "\n",
    "# Function that iterate through lists searching for pattern and matching it to a description:\n",
    "# 'Has Second Name' and 'No Second Name'\n",
    "def m2(p2, firstlast):\n",
    "    for x in firstlast:\n",
    "        if re.search(p2, x):\n",
    "            l2.append('Has Second Name')\n",
    "        else:\n",
    "            l2.append('No Second Name')\n",
    "\n",
    "m2(p2, firstlast) \n",
    "\n",
    "# Converting the result of the function in a numpy array\n",
    "second_name = np.array(l2)\n",
    "\n",
    "\n",
    "# Iterating(boolen) numpy array searching for 'Has Second Name' and assigning the \n",
    "# results to variable called contains_title\n",
    "contains_second_name = second_name == 'Has Second Name'\n",
    "\n",
    "# Printing Results\n",
    "contains_second_name\n"
   ]
  },
  {
   "cell_type": "markdown",
   "metadata": {},
   "source": [
    "**3.** The regular expression \"<.+>\" is a greedy expression which means that it will match as much text as possible. It is likely that using that expression all the string will be matched.\n",
    "To make sure that only the first tag is matched a \"?\" will need to be added to the regular expression so it matches in a non-greedy fashion. The updated regular expression would be: \"<.*?>\" "
   ]
  },
  {
   "cell_type": "markdown",
   "metadata": {},
   "source": [
    "**4.** The expression provided was not matching the complete formula. The '^' was telling the formula to match any character except numbers (0-9). I added a '\\\\' before the '0-9' so the expression can match numbers and, I added a '.' so any character could be matched as well. The updated expression was assigned to variable called 'updated' and it returns the complete formula. The results can be seen below. "
   ]
  },
  {
   "cell_type": "code",
   "execution_count": 29,
   "metadata": {},
   "outputs": [
    {
     "name": "stdout",
     "output_type": "stream",
     "text": [
      "Results using expression provided: ['-', '^', '^', '-', '^']\n",
      "Results after updating the expression provided: ['(5-3)^2=5^2-2*5*3+3^2']\n"
     ]
    }
   ],
   "source": [
    "# Testing Regular Expression Provided\n",
    "str1 = \"(5-3)^2=5^2-2*5*3+3^2\"\n",
    "pattern = \"[^0-9=+*()]+\"\n",
    "provided= re.findall(pattern, str1) \n",
    "\n",
    "print('Results using expression provided:', provided)\n",
    "\n",
    "# Updated Expression\n",
    "pattern2 = \"[.^\\0-9=+*()]+\"\n",
    "updated = re.findall(pattern2, str1)\n",
    "\n",
    "print('Results after updating the expression provided:', updated)"
   ]
  }
 ],
 "metadata": {
  "kernelspec": {
   "display_name": "Python 3",
   "language": "python",
   "name": "python3"
  },
  "language_info": {
   "codemirror_mode": {
    "name": "ipython",
    "version": 3
   },
   "file_extension": ".py",
   "mimetype": "text/x-python",
   "name": "python",
   "nbconvert_exporter": "python",
   "pygments_lexer": "ipython3",
   "version": "3.8.3"
  }
 },
 "nbformat": 4,
 "nbformat_minor": 4
}

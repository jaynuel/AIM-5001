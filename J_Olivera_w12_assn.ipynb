{
 "cells": [
  {
   "cell_type": "markdown",
   "metadata": {},
   "source": [
    "### Jesus Olivera\n",
    "### AIM 5001 Week 12 Assignment\n",
    "### Working with HTML, XML, JSON and Web APIs\n"
   ]
  },
  {
   "cell_type": "markdown",
   "metadata": {},
   "source": [
    "## Approach:\n",
    "\n",
    "**Part I**\n",
    "<br>\n",
    "\n",
    "I started the assignment by creating the 3 files in the 3 different formats by hand (json, html and xml) and uploading them to my Github. Then I imported all the libraries required to complete the assignment.  "
   ]
  },
  {
   "cell_type": "code",
   "execution_count": 14,
   "metadata": {},
   "outputs": [],
   "source": [
    "import pandas as pd\n",
    "import requests\n",
    "from pandas.io.json import json_normalize\n",
    "import json\n",
    "import urllib.request\n",
    "import numpy as np\n",
    "from lxml import etree\n",
    "from lxml import objectify"
   ]
  },
  {
   "cell_type": "markdown",
   "metadata": {},
   "source": [
    "### JSON File\n",
    "I used the \"request.get\" function to open the file and created a dataframe with the values. Variable \"json_df\" contains the dataframe."
   ]
  },
  {
   "cell_type": "code",
   "execution_count": 15,
   "metadata": {},
   "outputs": [
    {
     "data": {
      "text/html": [
       "<div>\n",
       "<style scoped>\n",
       "    .dataframe tbody tr th:only-of-type {\n",
       "        vertical-align: middle;\n",
       "    }\n",
       "\n",
       "    .dataframe tbody tr th {\n",
       "        vertical-align: top;\n",
       "    }\n",
       "\n",
       "    .dataframe thead th {\n",
       "        text-align: right;\n",
       "    }\n",
       "</style>\n",
       "<table border=\"1\" class=\"dataframe\">\n",
       "  <thead>\n",
       "    <tr style=\"text-align: right;\">\n",
       "      <th></th>\n",
       "      <th>Book</th>\n",
       "      <th>Author 1</th>\n",
       "      <th>Author 2</th>\n",
       "      <th>Attribute 1</th>\n",
       "      <th>Attribute 2</th>\n",
       "      <th>Attribute 3</th>\n",
       "    </tr>\n",
       "  </thead>\n",
       "  <tbody>\n",
       "    <tr>\n",
       "      <th>0</th>\n",
       "      <td>Afrodita</td>\n",
       "      <td>Isabel Allende</td>\n",
       "      <td>null</td>\n",
       "      <td>Recipes</td>\n",
       "      <td>Stories</td>\n",
       "      <td>Spanish</td>\n",
       "    </tr>\n",
       "    <tr>\n",
       "      <th>1</th>\n",
       "      <td>To Life!</td>\n",
       "      <td>Harold Kushner</td>\n",
       "      <td>null</td>\n",
       "      <td>Jewish</td>\n",
       "      <td>Wisdom</td>\n",
       "      <td>Humor</td>\n",
       "    </tr>\n",
       "    <tr>\n",
       "      <th>2</th>\n",
       "      <td>The Era of Uncertainty</td>\n",
       "      <td>François Trahan</td>\n",
       "      <td>Katherine Krantz</td>\n",
       "      <td>Investment</td>\n",
       "      <td>Finance</td>\n",
       "      <td>Global</td>\n",
       "    </tr>\n",
       "  </tbody>\n",
       "</table>\n",
       "</div>"
      ],
      "text/plain": [
       "                     Book         Author 1          Author 2 Attribute 1  \\\n",
       "0                Afrodita   Isabel Allende              null     Recipes   \n",
       "1                To Life!   Harold Kushner              null      Jewish   \n",
       "2  The Era of Uncertainty  François Trahan  Katherine Krantz  Investment   \n",
       "\n",
       "  Attribute 2 Attribute 3  \n",
       "0     Stories     Spanish  \n",
       "1      Wisdom       Humor  \n",
       "2     Finance      Global  "
      ]
     },
     "execution_count": 15,
     "metadata": {},
     "output_type": "execute_result"
    }
   ],
   "source": [
    "# Loading json file to Jupyter \n",
    "r = 'https://raw.githubusercontent.com/jaynuel/AIM-5001/master/bookjson.json'\n",
    "\n",
    "data = requests.get(r)\n",
    "\n",
    "booksjson = data.json()\n",
    "\n",
    "json_df = pd.DataFrame(booksjson)\n",
    "\n",
    "json_df"
   ]
  },
  {
   "cell_type": "markdown",
   "metadata": {},
   "source": [
    "### HTML\n",
    "\n",
    "I used the \"pd.read_html\" to import the file. Variable called \"books_html\" contains the dataframe."
   ]
  },
  {
   "cell_type": "code",
   "execution_count": 16,
   "metadata": {},
   "outputs": [
    {
     "data": {
      "text/html": [
       "<div>\n",
       "<style scoped>\n",
       "    .dataframe tbody tr th:only-of-type {\n",
       "        vertical-align: middle;\n",
       "    }\n",
       "\n",
       "    .dataframe tbody tr th {\n",
       "        vertical-align: top;\n",
       "    }\n",
       "\n",
       "    .dataframe thead th {\n",
       "        text-align: right;\n",
       "    }\n",
       "</style>\n",
       "<table border=\"1\" class=\"dataframe\">\n",
       "  <thead>\n",
       "    <tr style=\"text-align: right;\">\n",
       "      <th></th>\n",
       "      <th>Book</th>\n",
       "      <th>Author 1</th>\n",
       "      <th>Author 2</th>\n",
       "      <th>Attribute 1</th>\n",
       "      <th>Attribute 2</th>\n",
       "      <th>Attribute 3</th>\n",
       "    </tr>\n",
       "  </thead>\n",
       "  <tbody>\n",
       "    <tr>\n",
       "      <th>0</th>\n",
       "      <td>Afrodita</td>\n",
       "      <td>Isabel Allende</td>\n",
       "      <td>NaN</td>\n",
       "      <td>Recipes</td>\n",
       "      <td>Stories</td>\n",
       "      <td>Spanish</td>\n",
       "    </tr>\n",
       "    <tr>\n",
       "      <th>1</th>\n",
       "      <td>To Life!</td>\n",
       "      <td>Harold Kushner</td>\n",
       "      <td>NaN</td>\n",
       "      <td>Wisdom</td>\n",
       "      <td>Humor</td>\n",
       "      <td>Jewish</td>\n",
       "    </tr>\n",
       "    <tr>\n",
       "      <th>2</th>\n",
       "      <td>The Era of Uncertainty</td>\n",
       "      <td>FranÃ§ois Trahan</td>\n",
       "      <td>Katherine Krantz</td>\n",
       "      <td>Investment</td>\n",
       "      <td>Finance</td>\n",
       "      <td>Global</td>\n",
       "    </tr>\n",
       "  </tbody>\n",
       "</table>\n",
       "</div>"
      ],
      "text/plain": [
       "                     Book          Author 1          Author 2 Attribute 1  \\\n",
       "0                Afrodita    Isabel Allende               NaN     Recipes   \n",
       "1                To Life!    Harold Kushner               NaN      Wisdom   \n",
       "2  The Era of Uncertainty  FranÃ§ois Trahan  Katherine Krantz  Investment   \n",
       "\n",
       "  Attribute 2 Attribute 3  \n",
       "0     Stories     Spanish  \n",
       "1       Humor      Jewish  \n",
       "2     Finance      Global  "
      ]
     },
     "execution_count": 16,
     "metadata": {},
     "output_type": "execute_result"
    }
   ],
   "source": [
    "# Importing the HTML file to Jupyter\n",
    "data1 = pd.read_html('https://raw.githubusercontent.com/jaynuel/AIM-5001/master/bookhtml2.htm')\n",
    "\n",
    "books_html = data1[0]\n",
    "\n",
    "books_html"
   ]
  },
  {
   "cell_type": "markdown",
   "metadata": {},
   "source": [
    "### XML\n",
    "\n",
    "To accomplish this part of the assignmnet, I used the \"urllib.request.urlretrieve\" function to import the file to Jupyter. I parsed through the data using the \"objectify.parse\" function from the \"lxml\" library. Variable \"r3\" contains the root. I created a loop to iterate through the data and match the tags I was iterating for. I appended the results to lists, and created the dataframe using the \"pd.concat\" function. Variable \"b_xml\" contains the dataframe."
   ]
  },
  {
   "cell_type": "code",
   "execution_count": 17,
   "metadata": {},
   "outputs": [
    {
     "data": {
      "text/html": [
       "<div>\n",
       "<style scoped>\n",
       "    .dataframe tbody tr th:only-of-type {\n",
       "        vertical-align: middle;\n",
       "    }\n",
       "\n",
       "    .dataframe tbody tr th {\n",
       "        vertical-align: top;\n",
       "    }\n",
       "\n",
       "    .dataframe thead th {\n",
       "        text-align: right;\n",
       "    }\n",
       "</style>\n",
       "<table border=\"1\" class=\"dataframe\">\n",
       "  <thead>\n",
       "    <tr style=\"text-align: right;\">\n",
       "      <th></th>\n",
       "      <th>Book</th>\n",
       "      <th>Author 1</th>\n",
       "      <th>Author 2</th>\n",
       "      <th>Attribute 1</th>\n",
       "      <th>Attribute 2</th>\n",
       "      <th>Attribute 3</th>\n",
       "    </tr>\n",
       "  </thead>\n",
       "  <tbody>\n",
       "    <tr>\n",
       "      <th>0</th>\n",
       "      <td>[[[Afrodita]]]</td>\n",
       "      <td>[[[Isabel Allende]]]</td>\n",
       "      <td>[[[null]]]</td>\n",
       "      <td>[[[Recipes]]]</td>\n",
       "      <td>[[[Stories]]]</td>\n",
       "      <td>[[[Spanish]]]</td>\n",
       "    </tr>\n",
       "    <tr>\n",
       "      <th>1</th>\n",
       "      <td>[[[To Life!]]]</td>\n",
       "      <td>[[[Harold Kushner]]]</td>\n",
       "      <td>[[[null]]]</td>\n",
       "      <td>[[[Jewish]]]</td>\n",
       "      <td>[[[Wisdom]]]</td>\n",
       "      <td>[[[Humor]]]</td>\n",
       "    </tr>\n",
       "    <tr>\n",
       "      <th>2</th>\n",
       "      <td>[[[The Era of Uncertainty]]]</td>\n",
       "      <td>[[[FranÃ§ois Trahan]]]</td>\n",
       "      <td>[[[Katherine Krantz]]]</td>\n",
       "      <td>[[[Investment]]]</td>\n",
       "      <td>[[[Finance]]]</td>\n",
       "      <td>[[[Global]]]</td>\n",
       "    </tr>\n",
       "  </tbody>\n",
       "</table>\n",
       "</div>"
      ],
      "text/plain": [
       "                           Book                Author 1  \\\n",
       "0                [[[Afrodita]]]    [[[Isabel Allende]]]   \n",
       "1                [[[To Life!]]]    [[[Harold Kushner]]]   \n",
       "2  [[[The Era of Uncertainty]]]  [[[FranÃ§ois Trahan]]]   \n",
       "\n",
       "                 Author 2       Attribute 1    Attribute 2    Attribute 3  \n",
       "0              [[[null]]]     [[[Recipes]]]  [[[Stories]]]  [[[Spanish]]]  \n",
       "1              [[[null]]]      [[[Jewish]]]   [[[Wisdom]]]    [[[Humor]]]  \n",
       "2  [[[Katherine Krantz]]]  [[[Investment]]]  [[[Finance]]]   [[[Global]]]  "
      ]
     },
     "execution_count": 17,
     "metadata": {},
     "output_type": "execute_result"
    }
   ],
   "source": [
    "# Importing XML file to Jupyter\n",
    "path, header = urllib.request.urlretrieve(\"https://raw.githubusercontent.com/jaynuel/AIM-5001/master/Booksxml2.xml\")\n",
    "\n",
    "# Parsing through the data\n",
    "data2 = objectify.parse(open(path))\n",
    "\n",
    "# Root\n",
    "r3 = data2.getroot()\n",
    "\n",
    "#Empty lists for results\n",
    "skip = []\n",
    "books_xml = []\n",
    "books_xml1 = []\n",
    "books_xml2 = []\n",
    "books_xml3 = []\n",
    "books_xml4 = []\n",
    "books_xml5 = []\n",
    "\n",
    "\n",
    "# For loop to iterate and macth tags\n",
    "for x in r3.book:\n",
    "    elm = {}\n",
    "    elm1 = {}\n",
    "    elm2 = {}\n",
    "    elm3 = {}\n",
    "    elm4 = {}\n",
    "    elm5 = {}\n",
    "\n",
    "    for y in x.getchildren():\n",
    "        if x.tag in skip:\n",
    "            continue\n",
    "        elm[x.tag] = x.Book\n",
    "        elm1[x.tag] = x.Author1\n",
    "        elm2[x.tag] = x.Author2\n",
    "        elm3[x.tag] = x.Attribute1\n",
    "        elm4[x.tag] = x.Attribute2\n",
    "        elm5[x.tag] = x.Attribute3\n",
    "\n",
    "# Appending results to empty lists\n",
    "    books_xml.append(elm)\n",
    "    books_xml1.append(elm1)\n",
    "    books_xml2.append(elm2)\n",
    "    books_xml3.append(elm3)\n",
    "    books_xml4.append(elm4)\n",
    "    books_xml5.append(elm5)\n",
    "\n",
    "# Creating dataframes with resulst from iteration       \n",
    "d1 = pd.DataFrame(books_xml)\n",
    "d2 = pd.DataFrame(books_xml1)\n",
    "d3 = pd.DataFrame(books_xml2)\n",
    "d4 = pd.DataFrame(books_xml3)\n",
    "d5 = pd.DataFrame(books_xml4)\n",
    "d6 = pd.DataFrame(books_xml5)\n",
    "\n",
    "\n",
    "# Using concat to create final dataframe\n",
    "b_xml = pd.concat([d1,d2,d3,d4,d5,d6], axis=1, sort=True)\n",
    "# Dataframe columns\n",
    "b_xml.columns = ['Book','Author 1','Author 2','Attribute 1','Attribute 2','Attribute 3']\n",
    "\n",
    "# Final dataframe\n",
    "b_xml\n"
   ]
  },
  {
   "cell_type": "markdown",
   "metadata": {},
   "source": [
    "**Part II**\n",
    "<br>\n",
    "\n",
    "To complete this part of the assignment, I started by creating my profile in the NYT website and getting my unique key. I used the \"requests.get\" function to import the data to Jupyter."
   ]
  },
  {
   "cell_type": "code",
   "execution_count": null,
   "metadata": {},
   "outputs": [],
   "source": [
    "# ywQjJISK01Uq488G8IwvGKJtGvcHqw3t - unique key\n",
    "\n",
    "# Importing the data \n",
    "info = requests.get(\"https://api.nytimes.com/svc/archive/v1/2019/1.json?api-key=ywQjJISK01Uq488G8IwvGKJtGvcHqw3t\")\n",
    "\n",
    "# Verifying the API status code, 200 means results have been sucesfully returned.\n",
    "print(info.status_code)\n"
   ]
  },
  {
   "cell_type": "code",
   "execution_count": null,
   "metadata": {},
   "outputs": [],
   "source": [
    "# Printing the data\n",
    "info.json()"
   ]
  },
  {
   "cell_type": "markdown",
   "metadata": {},
   "source": [
    "I started choosing which keys I was going to work with. I used the \"dict_keys\" and \"info.json\" to retieve the data. Variable \"df\" contains the dataframe."
   ]
  },
  {
   "cell_type": "code",
   "execution_count": null,
   "metadata": {},
   "outputs": [],
   "source": [
    "# Exploring the content of the json file using .keys() function.\n",
    "info.json().keys()"
   ]
  },
  {
   "cell_type": "code",
   "execution_count": null,
   "metadata": {},
   "outputs": [],
   "source": [
    "# Retriving data using the \"response\" key\n",
    "info.json()['response'].keys()"
   ]
  },
  {
   "cell_type": "code",
   "execution_count": null,
   "metadata": {},
   "outputs": [],
   "source": [
    "# Retrieving data from \"response\" and \"docs\" keys\n",
    "data = info.json()['response']['docs']"
   ]
  },
  {
   "cell_type": "code",
   "execution_count": null,
   "metadata": {},
   "outputs": [],
   "source": [
    "# Using the \"json_normalize\" function to normalize the data into a flat table \n",
    "df = json_normalize(data)\n",
    "\n",
    "# The first 3 rows are printed below\n",
    "df.head(3)"
   ]
  },
  {
   "cell_type": "markdown",
   "metadata": {},
   "source": [
    "### Analysis\n",
    "\n",
    "I performed an analysis on the data to calculate the number of document types. I used the function \"groupby\" and \"nlargest\" to reach the results of the analysis."
   ]
  },
  {
   "cell_type": "code",
   "execution_count": null,
   "metadata": {},
   "outputs": [],
   "source": [
    "grouped = df.groupby('news_desk').document_type.nunique()\n",
    "grouped.nlargest(10)"
   ]
  },
  {
   "cell_type": "markdown",
   "metadata": {},
   "source": [
    "**Results**\n",
    "<br>\n",
    "\n",
    "Results above show that the document types with more records on the data set are news_desk, books, climate, magazine, science, sports, travel and well. All of the top document types on the dataframe have 2 records.  "
   ]
  },
  {
   "cell_type": "code",
   "execution_count": null,
   "metadata": {},
   "outputs": [],
   "source": []
  }
 ],
 "metadata": {
  "kernelspec": {
   "display_name": "Python 3",
   "language": "python",
   "name": "python3"
  },
  "language_info": {
   "codemirror_mode": {
    "name": "ipython",
    "version": 3
   },
   "file_extension": ".py",
   "mimetype": "text/x-python",
   "name": "python",
   "nbconvert_exporter": "python",
   "pygments_lexer": "ipython3",
   "version": "3.8.3"
  }
 },
 "nbformat": 4,
 "nbformat_minor": 4
}
